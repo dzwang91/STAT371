{
 "cells": [
  {
   "cell_type": "markdown",
   "metadata": {},
   "source": [
    "## CPSC 340 Lecture 16 accompanying demo\n",
    "\n",
    "Robust linear regression with gradient descent"
   ]
  },
  {
   "cell_type": "code",
   "execution_count": 2,
   "metadata": {
    "collapsed": true
   },
   "outputs": [],
   "source": [
    "import numpy as np\n",
    "import sklearn\n",
    "import sklearn.linear_model\n",
    "import matplotlib.pyplot as plt\n",
    "%matplotlib inline"
   ]
  },
  {
   "cell_type": "markdown",
   "metadata": {},
   "source": [
    "Here we generate some random data in 1 dimension and fit a linear model."
   ]
  },
  {
   "cell_type": "code",
   "execution_count": 10,
   "metadata": {
    "collapsed": false
   },
   "outputs": [
    {
     "data": {
      "image/png": "[encoded data removed]",
      "text/plain": [
       "<matplotlib.figure.Figure at 0x1132bd2b0>"
      ]
     },
     "metadata": {},
     "output_type": "display_data"
    },
    {
     "name": "stdout",
     "output_type": "stream",
     "text": [
      "w = -1.535860\n",
      "b = -7.968192\n"
     ]
    }
   ],
   "source": [
    "# generate random data\n",
    "x = np.random.randn(40)\n",
    "y = 10*x\n",
    "# add random outliers\n",
    "Noutliers = 3\n",
    "y[:Noutliers] = -100*(x[:Noutliers]+np.random.randn(Noutliers))\n",
    "\n",
    "# plot the points\n",
    "plt.plot(x,y,'.')\n",
    "\n",
    "X = x[:,None] # reshape for sklearn\n",
    "\n",
    "# fit a linear regression model\n",
    "lr = sklearn.linear_model.LinearRegression()\n",
    "lr.fit(X,y)\n",
    "plt.plot(x, lr.predict(X))\n",
    "\n",
    "plt.show()\n",
    "\n",
    "\n",
    "print(\"w = %f\" % lr.coef_)\n",
    "print(\"b = %f\" % lr.intercept_)"
   ]
  },
  {
   "cell_type": "markdown",
   "metadata": {},
   "source": [
    "The model is pretty disappointing. We try the L1 loss.\n",
    "\n",
    "For linear regression in one dimension our L1 objective becomes\n",
    "\n",
    "$$\\mathcal{L}(w,b)=\\displaystyle \\sum_{n=1}^N\\left|y_n-  (w x_n +b)\\right| $$\n",
    "\n",
    "The gradient is\n",
    "\n",
    "$$\\frac{\\partial \\mathcal{L}}{\\partial w} = \\sum_{n=1}^N - x_n \\textrm{sign}\\left(y_n-  (w x_n +b)\\right)$$ \n",
    "\n",
    "$$\\frac{\\partial \\mathcal{L}}{\\partial b} = \\sum_{n=1}^N - \\textrm{sign}\\left(y_n-  (w x_n +b)\\right)$$ \n",
    "\n",
    "(In this humble demo we aren't properly dealing with the undefined derivative at the discontinuity... we just naively ignore it.)"
   ]
  },
  {
   "cell_type": "code",
   "execution_count": 11,
   "metadata": {
    "collapsed": false
   },
   "outputs": [
    {
     "data": {
      "image/png": "[encoded data removed]",
      "text/plain": [
       "<matplotlib.figure.Figure at 0x1132e2898>"
      ]
     },
     "metadata": {},
     "output_type": "display_data"
    },
    {
     "name": "stdout",
     "output_type": "stream",
     "text": [
      "w = 9.848150\n",
      "b = 0.020000\n"
     ]
    }
   ],
   "source": [
    "w = 0\n",
    "b = 0\n",
    "alpha = 0.01\n",
    "\n",
    "Nsteps = 1000\n",
    "f = lambda x,w,b: w*x+b\n",
    "\n",
    "for t in range(Nsteps):\n",
    "    dLdw = -np.sum(x*np.sign(y-f(x,w,b)))\n",
    "    dLdb = -np.sum(np.sign(y-f(x,w,b)))\n",
    "    w -= alpha*dLdw\n",
    "    b -= alpha*dLdb\n",
    "    \n",
    "plt.figure()\n",
    "plt.plot(x,y,'.')\n",
    "plt.plot(x,w*x+b)\n",
    "plt.show()\n",
    "\n",
    "print(\"w = %f\" % w)\n",
    "print(\"b = %f\" % b)\n"
   ]
  },
  {
   "cell_type": "markdown",
   "metadata": {},
   "source": [
    "Looks good... high five!"
   ]
  },
  {
   "cell_type": "code",
   "execution_count": null,
   "metadata": {
    "collapsed": true
   },
   "outputs": [],
   "source": []
  }
 ],
 "metadata": {
  "anaconda-cloud": {},
  "kernelspec": {
   "display_name": "Python [Root]",
   "language": "python",
   "name": "Python [Root]"
  },
  "language_info": {
   "codemirror_mode": {
    "name": "ipython",
    "version": 3
   },
   "file_extension": ".py",
   "mimetype": "text/x-python",
   "name": "python",
   "nbconvert_exporter": "python",
   "pygments_lexer": "ipython3",
   "version": "3.5.2"
  }
 },
 "nbformat": 4,
 "nbformat_minor": 0
}
